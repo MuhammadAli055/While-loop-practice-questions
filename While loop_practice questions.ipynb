{
 "cells": [
  {
   "cell_type": "code",
   "execution_count": 1,
   "id": "3baecab9-5f82-48e4-8489-313a754c8647",
   "metadata": {},
   "outputs": [
    {
     "name": "stdout",
     "output_type": "stream",
     "text": [
      "1\n",
      "2\n",
      "3\n",
      "4\n",
      "5\n",
      "6\n",
      "7\n",
      "8\n",
      "9\n",
      "10\n"
     ]
    }
   ],
   "source": [
    "#--------------------------------------------Practice Questions---------------------------------------#\n",
    "\n",
    "#Q1 Counting with while loop\n",
    "#Write a program that uses a while loop to count from 1 to 10 and print each number.\n",
    "\n",
    "i=1\n",
    "while i<11:\n",
    "    print(i)\n",
    "    i+=1"
   ]
  },
  {
   "cell_type": "code",
   "execution_count": 3,
   "id": "e8bd8586-1cc6-40f9-838a-0804385045d8",
   "metadata": {},
   "outputs": [
    {
     "name": "stdout",
     "output_type": "stream",
     "text": [
      "2\n",
      "4\n",
      "6\n",
      "8\n",
      "10\n",
      "12\n",
      "14\n",
      "16\n",
      "18\n",
      "20\n"
     ]
    }
   ],
   "source": [
    "#Q2.Even Numbers \n",
    "#Create a while loop to print all even numbers from 1 to 20.\n",
    " \n",
    "i=1\n",
    "while i<21:\n",
    "    if i%2==0:\n",
    "        print(i)\n",
    "    i+=1"
   ]
  },
  {
   "cell_type": "code",
   "execution_count": 5,
   "id": "3c35f231-6d3e-4d59-b7fb-2a0757dc2f5e",
   "metadata": {},
   "outputs": [
    {
     "name": "stdout",
     "output_type": "stream",
     "text": [
      "The sum of first 10 natural numbers = 55\n"
     ]
    }
   ],
   "source": [
    " #Q3. Sum of Natural Numbers\n",
    " #Write a program using a while loop to calculate the sum of the first 10 natural numbers.\n",
    "\n",
    "sum=0\n",
    "i=1\n",
    "while i <11:\n",
    "    sum=sum+i\n",
    "    i+=1\n",
    "print(f\"The sum of first 10 natural numbers = {sum}\")"
   ]
  },
  {
   "cell_type": "code",
   "execution_count": 9,
   "id": "ba76529d-985c-482d-8505-df20b9255cef",
   "metadata": {},
   "outputs": [
    {
     "name": "stdin",
     "output_type": "stream",
     "text": [
      "Please enter a number and enter a negative number to exit:  5\n",
      "Please enter a number and enter a negative number to exit:  7\n",
      "Please enter a number and enter a negative number to exit:  3\n",
      "Please enter a number and enter a negative number to exit:  5\n",
      "Please enter a number and enter a negative number to exit:  68\n",
      "Please enter a number and enter a negative number to exit:  -2\n"
     ]
    },
    {
     "name": "stdout",
     "output_type": "stream",
     "text": [
      "The sum of all the numbers which you have enterd = 88\n"
     ]
    }
   ],
   "source": [
    "#Q4.User Input with Condition \n",
    "#Write a program that prompts the user to enter numbers. The loop should keep asking for numbers until\n",
    "#the user enters a negative number. When the loop exits, print the total sum of the numbers entered\n",
    "#(excluding the negative number).\n",
    "\n",
    "sum=0\n",
    "while True:\n",
    "    num=int(input(\"Please enter a number and enter a negative number to exit: \"))\n",
    "    if num<0:\n",
    "        break\n",
    "    sum=num+sum\n",
    "print(f\"The sum of all the numbers which you have enterd = {sum}\")"
   ]
  },
  {
   "cell_type": "code",
   "execution_count": 11,
   "id": "fcd8cd9e-875d-488c-816b-bc80ddd392f9",
   "metadata": {},
   "outputs": [
    {
     "name": "stdout",
     "output_type": "stream",
     "text": [
      "Let's start the number guessing game\n"
     ]
    },
    {
     "name": "stdin",
     "output_type": "stream",
     "text": [
      "Enter a number to guess the number which I have decided :  45\n"
     ]
    },
    {
     "name": "stdout",
     "output_type": "stream",
     "text": [
      "You have picked a lower number than my guessed number try again\n"
     ]
    },
    {
     "name": "stdin",
     "output_type": "stream",
     "text": [
      "Enter a number to guess the number which I have decided :  67\n"
     ]
    },
    {
     "name": "stdout",
     "output_type": "stream",
     "text": [
      "You have picked a lower number than my guessed number try again\n"
     ]
    },
    {
     "name": "stdin",
     "output_type": "stream",
     "text": [
      "Enter a number to guess the number which I have decided :  89\n"
     ]
    },
    {
     "name": "stdout",
     "output_type": "stream",
     "text": [
      "You have picked a higher number than my guessed number try again\n"
     ]
    },
    {
     "name": "stdin",
     "output_type": "stream",
     "text": [
      "Enter a number to guess the number which I have decided :  0\n"
     ]
    },
    {
     "name": "stdout",
     "output_type": "stream",
     "text": [
      "You have picked a lower number than my guessed number try again\n"
     ]
    },
    {
     "name": "stdin",
     "output_type": "stream",
     "text": [
      "Enter a number to guess the number which I have decided :  100\n"
     ]
    },
    {
     "name": "stdout",
     "output_type": "stream",
     "text": [
      "You have picked a higher number than my guessed number try again\n"
     ]
    },
    {
     "name": "stdin",
     "output_type": "stream",
     "text": [
      "Enter a number to guess the number which I have decided :  73\n"
     ]
    },
    {
     "name": "stdout",
     "output_type": "stream",
     "text": [
      "CONGRATULATIONS YOU HAVE GUESSED THE RIGHT NUMBER\n"
     ]
    }
   ],
   "source": [
    "#Q5.Number Guessing Game \n",
    "#Create a guessing game where the user has to guess a number between 1 and 100. Use a while loop to allow\n",
    "#the user to keep guessing until they get it right. Provide hints if the guess is too high or too low.\n",
    "\n",
    "number=73\n",
    "print(\"Let's start the number guessing game\")\n",
    "while True:\n",
    "    n=int(input(\"Enter a number to guess the number which I have decided : \"))\n",
    "    if n==number:\n",
    "        print(\"CONGRATULATIONS YOU HAVE GUESSED THE RIGHT NUMBER\")\n",
    "        break\n",
    "    if n<number:\n",
    "        print(\"You have picked a lower number than my guessed number try again\")\n",
    "    else:\n",
    "        print(\"You have picked a higher number than my guessed number try again\")"
   ]
  },
  {
   "cell_type": "code",
   "execution_count": 13,
   "id": "1ef40c99-2d0b-4c3a-a456-76a4524b944b",
   "metadata": {},
   "outputs": [
    {
     "name": "stdin",
     "output_type": "stream",
     "text": [
      "Enter a number whose factorial you wnat to find:  5\n"
     ]
    },
    {
     "name": "stdout",
     "output_type": "stream",
     "text": [
      "The factorial of 5 = 120\n"
     ]
    }
   ],
   "source": [
    "#Q6.Factorial Calculation\n",
    "# Write a program to calculate the factorial of a given positive integer using a while loop.\n",
    "\n",
    "fact=1\n",
    "digit=int(input(\"Enter a number whose factorial you wnat to find: \"))\n",
    "x=1\n",
    "x*=digit\n",
    "while x>0:\n",
    "    fact*=x\n",
    "    x-=1\n",
    "print(f\"The factorial of {digit} = {fact}\")"
   ]
  },
  {
   "cell_type": "code",
   "execution_count": 17,
   "id": "b2ee5d02-7eb4-46b4-b566-d35d4ae0e2c0",
   "metadata": {},
   "outputs": [
    {
     "name": "stdin",
     "output_type": "stream",
     "text": [
      "Enter a number or done to exit:  6\n",
      "Enter a number or done to exit:  5\n",
      "Enter a number or done to exit:  4\n",
      "Enter a number or done to exit:  done\n"
     ]
    },
    {
     "name": "stdout",
     "output_type": "stream",
     "text": [
      "The average of numbers which you have enterd = 5.0\n"
     ]
    }
   ],
   "source": [
    "#Q7. Average Calculator\n",
    "#Write a program that uses a while loop to take in a series of numbers from the user. \n",
    "#The loop should stop when the user enters \"done\". Calculate and print the average of the entered numbers.\n",
    "\n",
    "avg=0\n",
    "count=0\n",
    "while True:\n",
    "    Ask=(input(\"Enter a number or done to exit: \"))\n",
    "    if Ask ==\"Done\".lower():\n",
    "        break\n",
    "    else:\n",
    "        avg+=int(Ask)\n",
    "        count+=1\n",
    "\n",
    "print(f\"The average of numbers which you have enterd = {avg/count}\")\n"
   ]
  },
  {
   "cell_type": "code",
   "execution_count": 19,
   "id": "57ba5290-48b0-43b8-ad79-e7cb4eabd53c",
   "metadata": {},
   "outputs": [
    {
     "name": "stdout",
     "output_type": "stream",
     "text": [
      "\n",
      " Fibonacci Sequence\n"
     ]
    },
    {
     "name": "stdin",
     "output_type": "stream",
     "text": [
      "Enter a positive integer to print the Fibonacci sequence up to:  6\n"
     ]
    },
    {
     "name": "stdout",
     "output_type": "stream",
     "text": [
      "Fibonacci sequence up to 6 :\n",
      "0 1 1 2 3 5 \n"
     ]
    }
   ],
   "source": [
    "#Q8. Fibonacci Sequence  \n",
    "#Using a while loop, print the Fibonacci sequence up to a specified number n (where n is an integer input\n",
    "#by the user).\n",
    "\n",
    "print(\"\\n Fibonacci Sequence\")\n",
    "n = int(input(\"Enter a positive integer to print the Fibonacci sequence up to: \"))\n",
    "a, b = 0, 1\n",
    "print(\"Fibonacci sequence up to\", n, \":\")\n",
    "while a <= n:\n",
    "    print(a, end=\" \")\n",
    "    a, b = b, a + b \n",
    "print() "
   ]
  }
 ],
 "metadata": {
  "kernelspec": {
   "display_name": "Python 3 (ipykernel)",
   "language": "python",
   "name": "python3"
  },
  "language_info": {
   "codemirror_mode": {
    "name": "ipython",
    "version": 3
   },
   "file_extension": ".py",
   "mimetype": "text/x-python",
   "name": "python",
   "nbconvert_exporter": "python",
   "pygments_lexer": "ipython3",
   "version": "3.12.4"
  }
 },
 "nbformat": 4,
 "nbformat_minor": 5
}
